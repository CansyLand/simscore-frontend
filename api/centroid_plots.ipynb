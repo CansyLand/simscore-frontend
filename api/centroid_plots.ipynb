{
 "cells": [
  {
   "cell_type": "code",
   "execution_count": null,
   "metadata": {
    "ExecuteTime": {
     "end_time": "2024-05-13T11:15:18.112228Z",
     "start_time": "2024-05-13T11:15:18.104320Z"
    },
    "collapsed": false,
    "trusted": true
   },
   "outputs": [],
   "source": [
    "# Imports (if running in JupyterLite this might take a while)\n",
    "import numpy as np\n",
    "import matplotlib.pyplot as plt\n",
    "from matplotlib.collections import LineCollection\n",
    "from sklearn import manifold\n",
    "from sklearn.metrics import euclidean_distances\n",
    "from sklearn.metrics.pairwise import cosine_similarity\n",
    "from sklearn.feature_extraction.text import CountVectorizer\n",
    "from sklearn.metrics.pairwise import pairwise_distances\n",
    "from scipy.integrate import odeint\n",
    "import io"
   ]
  },
  {
   "cell_type": "code",
   "execution_count": null,
   "metadata": {
    "ExecuteTime": {
     "end_time": "2024-05-13T11:15:18.132234Z",
     "start_time": "2024-05-13T11:15:18.115348Z"
    }
   },
   "outputs": [],
   "source": [
    "# IDEA INPUT\n",
    "# decide how you want to enter ideas by setting any of the following variables to True or false.\n",
    "# If none of them is True, then we assume the ideas are provided in the code.\n",
    "\n",
    "enter_ideas_manually = False\n",
    "enter_ideas_from_csv = True\n",
    "\n",
    "ideas = []\n",
    "if enter_ideas_manually:\n",
    "    print(\"Enter ideas. You can enter them one-by-one, or enter them all at once, separated with a newline. Stop by typing 'exit'\")\n",
    "    while answer.lower != \"exit\":\n",
    "        answer = input()\n",
    "        ideas.extend([idea for idea in answer.split('\\n') if idea.strip() and idea != \"exit\"])\n",
    "\n",
    "if enter_ideas_from_csv:\n",
    "    import ipywidgets as widgets\n",
    "    from IPython.display import display\n",
    "\n",
    "    file_upload = widgets.FileUpload()\n",
    "\n",
    "    display(file_upload)\n"
   ]
  },
  {
   "cell_type": "code",
   "execution_count": null,
   "metadata": {},
   "outputs": [],
   "source": [
    "if enter_ideas_from_csv and len(file_upload.value) > 0:\n",
    "    uploaded = file_upload.value[0]\n",
    "    import codecs\n",
    "    content = codecs.decode(uploaded.content, encoding=\"utf-8\")\n",
    "    ideas = content.split('\\n')"
   ]
  },
  {
   "cell_type": "code",
   "execution_count": null,
   "metadata": {},
   "outputs": [],
   "source": [
    "print('Ideas: ', ideas)"
   ]
  },
  {
   "cell_type": "code",
   "execution_count": null,
   "metadata": {
    "ExecuteTime": {
     "end_time": "2024-05-13T11:15:18.132952Z",
     "start_time": "2024-05-13T11:15:18.121388Z"
    },
    "collapsed": false,
    "trusted": true
   },
   "outputs": [],
   "source": [
    "# Initialize CountVectorizer to convert text into numerical vectors\n",
    "count_vectorizer = CountVectorizer()\n",
    "\n",
    "# Fit and transform the text data to numerical vectors\n",
    "idea_matrix = count_vectorizer.fit_transform(ideas)\n",
    "\n",
    "# Convert the idea matrix to a numpy array for easier calculations\n",
    "idea_array = idea_matrix.toarray()\n",
    "\n",
    "# Calculate the centroid (mean) of the idea array along axis 0 (rows)\n",
    "centroid = np.mean(idea_array, axis=0)\n",
    "\n",
    "# Add the centroid as another row/column\n",
    "idea_array = np.vstack([idea_array, centroid])\n",
    "\n",
    "# Calculate similarity & distances\n",
    "cos_similarity = cosine_similarity(idea_array, centroid.reshape(1, -1))\n",
    "pairwise_similarity = cosine_similarity(idea_array, idea_array)\n",
    "pairwise_distance = pairwise_distances(idea_array, metric='cosine')\n",
    "\n",
    "# Distance of the centroid to each other idea\n",
    "centroid_distance = pairwise_distance[-1, :-1]\n",
    "\n",
    "# make it so that 0 is 'same' and 1 is very different:\n",
    "distance_to_centroid = 1 - cos_similarity\n",
    "\n",
    "\n",
    "### Print info\n",
    "# Create an object with the similarity scores for each idea\n",
    "print('Cosine similarity: ')\n",
    "for row in cos_similarity:\n",
    "    print(\"{:.2f}\".format(*row), sep='')\n",
    "\n",
    "print('Distance to centroid: (-1 * x): ')\n",
    "for row in distance_to_centroid:\n",
    "    print(\"{:.2f}\".format(*row), sep='')\n",
    "\n",
    "ideas_and_similarities = [{\"idea\": ideas[i], \"dist\": distance_to_centroid[i][0]} for i in range(len(ideas))]\n"
   ]
  },
  {
   "cell_type": "markdown",
   "metadata": {},
   "source": [
    "### MDS MultiDimensional Scaling\n",
    "Not quite working yet, but might be a good way if we can transform the data properly."
   ]
  },
  {
   "cell_type": "code",
   "execution_count": null,
   "metadata": {
    "ExecuteTime": {
     "end_time": "2024-05-13T11:19:04.983740Z",
     "start_time": "2024-05-13T11:17:46.517148Z"
    },
    "collapsed": false
   },
   "outputs": [],
   "source": [
    "r_state = np.random.RandomState()\n",
    "\n",
    "# For reproducible results, set r_int to a fixed number.\n",
    "r_int = r_state.randint(1, 1000000)\n",
    "mds = manifold.MDS(n_components=2, dissimilarity='precomputed', random_state=r_int)\n",
    "print(r_int)\n",
    "\n",
    "coords = mds.fit_transform(pairwise_distance)\n",
    "fig, ax = plt.subplots(figsize=(8, 6))\n",
    "\n",
    "# Normalize the distance_to_centroid array for marker size scaling\n",
    "marker_sizes = pow((1 - distance_to_centroid), 3) * 300\n",
    "marker_sizes[-1] = 100   # Centroid marker size\n",
    "\n",
    "scatter = ax.scatter(coords[:, 0], coords[:, 1], c=distance_to_centroid, cmap='viridis', s=marker_sizes)\n",
    "\n",
    "# Stronger Connection Lines for stronger pairwise similarities: \n",
    "segments = []\n",
    "line_weights = []\n",
    "for i in range(len(coords)):\n",
    "    for j in range(len(coords)):\n",
    "        segments.append([coords[i], coords[j]])\n",
    "        line_weights.append(pow(pairwise_similarity[i,j], 2))\n",
    "\n",
    "lc = LineCollection(\n",
    "    segments, zorder=0, cmap=plt.cm.Blues, norm=plt.Normalize(0, 1), linewidths=line_weights\n",
    ")\n",
    "ax.add_collection(lc)\n",
    "\n",
    "# Add labels to each point\n",
    "labels = []\n",
    "for i, dist in enumerate(coords):\n",
    "    if i == len(coords)-1:\n",
    "        labels.append(ax.annotate(f\"Centroid\", (coords[i, 0], coords[i, 1]), xytext=(7, 3), textcoords='offset pixels'))\n",
    "    else:\n",
    "        dist_round = round(dist[0], 2)\n",
    "        text = f\"{i+1}\"\n",
    "        label = ax.annotate(text, (coords[i, 0], coords[i, 1]), xytext=(7, 3), textcoords='offset pixels')\n",
    "        labels.append(label)\n",
    "\n",
    "# Add a colorbar to show the mapping of colors to distances\n",
    "cbar = fig.colorbar(scatter, ax=ax)\n",
    "cbar.set_label('Distance to Centroid')\n",
    "\n",
    "# Set the axis labels and title\n",
    "ax.set_title('Distance to Centroid Visualization')\n",
    "\n",
    "# Show the plot\n",
    "plt.show()\n",
    "\n",
    "\n"
   ]
  },
  {
   "cell_type": "code",
   "execution_count": null,
   "metadata": {
    "ExecuteTime": {
     "end_time": "2024-05-13T11:15:18.365824Z",
     "start_time": "2024-05-13T11:15:18.358523Z"
    }
   },
   "outputs": [],
   "source": [
    "print(f\"# \\t dist to center \\t coords\")\n",
    "for i, item in enumerate(ideas_and_similarities):\n",
    "    print(f\"{i+1} \\t {item['idea']} \\t {round(item['dist'], 2)} \\t ({round(coords[i][0], 2)}|{round(coords[i][1], 2)})\")"
   ]
  },
  {
   "cell_type": "markdown",
   "metadata": {},
   "source": [
    "### Heatmap\n",
    "Difficult to read properly. There's surely something better. (See other attempts below)"
   ]
  },
  {
   "cell_type": "code",
   "execution_count": null,
   "metadata": {
    "ExecuteTime": {
     "end_time": "2024-05-13T11:15:18.579144Z",
     "start_time": "2024-05-13T11:15:18.366389Z"
    }
   },
   "outputs": [],
   "source": [
    "fig, ax = plt.subplots(figsize=(8, 6))\n",
    "plt.imshow(pairwise_distance, cmap='viridis', interpolation='nearest')\n",
    "plt.colorbar(label='Similarity Score (0 = same)')\n",
    "plt.title('Heatmap Graph of Similarity Scores')\n",
    "\n",
    "n = 3  # Show every nth label\n",
    "start = 1  # Start from this value\n",
    "length = len(pairwise_distance)\n",
    "end = length + start  # End at this value\n",
    "labels = np.arange(start, end, n)  # Generate the labels\n",
    "\n",
    "# Set the x-ticks and labels\n",
    "len_aranged = np.arange(length)\n",
    "\n",
    "# Create a list of empty strings for the unlabeled ticks\n",
    "all_labels = ['' for _ in range(length)]\n",
    "\n",
    "# Assign the generated labels to the appropriate positions\n",
    "for i, label in enumerate(labels):\n",
    "    all_labels[i * n] = str(label)\n",
    "\n",
    "# Set the x-ticks and labels\n",
    "ax.set_xticks(len_aranged)\n",
    "ax.set_xticklabels(all_labels)\n",
    "\n",
    "ax.set_yticks(len_aranged)\n",
    "ax.set_yticklabels(all_labels)\n",
    "\n",
    "plt.xlabel('Idea Index')\n",
    "plt.ylabel('Idea Index')\n",
    "plt.grid(visible=True, linestyle='--', linewidth=0.5)\n",
    "# as_html = mpld3.fig_to_html(fig, include_libraries=False, template_type=\"simple\")\n",
    "# plt.savefig('static/plot.png')\n",
    "# plt.close(fig)\n",
    "plt.show()"
   ]
  },
  {
   "cell_type": "markdown",
   "metadata": {},
   "source": [
    "### Networkx Graph\n",
    "Not really suitable, but we might be able to improve something?"
   ]
  },
  {
   "cell_type": "code",
   "execution_count": null,
   "metadata": {
    "ExecuteTime": {
     "end_time": "2024-05-13T11:15:19.595260Z",
     "start_time": "2024-05-13T11:15:18.579089Z"
    }
   },
   "outputs": [],
   "source": [
    "import networkx as nx\n",
    "\n",
    "# Create a graph\n",
    "G = nx.Graph()\n",
    "\n",
    "# Add nodes to the graph\n",
    "num_nodes = pairwise_distance.shape[0]\n",
    "for i in range(num_nodes):\n",
    "    G.add_node(i)\n",
    "\n",
    "#Add edges based on distance matrix\n",
    "for i in range(num_nodes):\n",
    "    for j in range(i+1, num_nodes):\n",
    "        weight = pairwise_distance[i][j]\n",
    "        G.add_edge(i, j, weight=weight)\n",
    "\n",
    "# Position nodes using spring layout\n",
    "coords = nx.spring_layout(G)\n",
    "\n",
    "#Draw nodes\n",
    "nx.draw_networkx_nodes(G, coords, node_size=500)\n",
    "\n",
    "#Draw edges with weights\n",
    "nx.draw_networkx_edges(G, coords)\n",
    "edge_labels = {(u, v): d['weight'] for u, v, d in G.edges(data=True)}\n",
    "nx.draw_networkx_edge_labels(G, coords, edge_labels=edge_labels)\n",
    "\n",
    "#Display the graph\n",
    "plt.title('Distance Graph')\n",
    "plt.axis('off')\n",
    "plt.show()"
   ]
  }
 ],
 "metadata": {
  "kernelspec": {
   "display_name": "venv-3.12",
   "language": "python",
   "name": "python3"
  },
  "language_info": {
   "codemirror_mode": {
    "name": "ipython",
    "version": 3
   },
   "file_extension": ".py",
   "mimetype": "text/x-python",
   "name": "python",
   "nbconvert_exporter": "python",
   "pygments_lexer": "ipython3",
   "version": "3.12.2"
  }
 },
 "nbformat": 4,
 "nbformat_minor": 4
}
