{
  "cells": [
    {
      "cell_type": "code",
      "execution_count": 1,
      "metadata": {
        "collapsed": false,
        "jupyter": {
          "outputs_hidden": false
        },
        "trusted": true
      },
      "outputs": [],
      "source": [
        "# Imports (if running in JupyterLite this might take a while)\n",
        "import numpy as np\n",
        "import matplotlib.pyplot as plt\n",
        "from matplotlib.collections import LineCollection\n",
        "from sklearn import manifold\n",
        "from sklearn.metrics import euclidean_distances\n",
        "from sklearn.metrics.pairwise import cosine_similarity\n",
        "from sklearn.feature_extraction.text import CountVectorizer\n",
        "from sklearn.metrics.pairwise import pairwise_distances"
      ]
    },
    {
      "cell_type": "code",
      "execution_count": null,
      "metadata": {},
      "outputs": [],
      "source": [
        "print(\"Enter ideas. You can enter them one-by-one, or enter them all at once, separated with a newline.\")\n",
        "ideas = []\n",
        "answer = \"\"\n",
        "while answer != \"exit\":\n",
        "    answer = input()\n",
        "    ideas.extend([idea for idea in answer.split('\\n') if idea.strip() and idea != \"exit\"])\n",
        "\n",
        "print(ideas)"
      ]
    },
    {
      "cell_type": "code",
      "execution_count": null,
      "metadata": {
        "collapsed": false,
        "jupyter": {
          "outputs_hidden": false
        },
        "trusted": true
      },
      "outputs": [],
      "source": [
        "# Initialize CountVectorizer to convert text into numerical vectors\n",
        "count_vectorizer = CountVectorizer()\n",
        "\n",
        "# Fit and transform the text data to numerical vectors\n",
        "idea_matrix = count_vectorizer.fit_transform(ideas)\n",
        "\n",
        "# Convert the idea matrix to a numpy array for easier calculations\n",
        "idea_array = idea_matrix.toarray()\n",
        "\n",
        "# Calculate the centroid (mean) of the idea array along axis 0 (rows)\n",
        "centroid = np.mean(idea_array, axis=0)\n",
        "\n",
        "# Calculate cosine similarity between each idea and the centroid\n",
        "cos_similarity = cosine_similarity(idea_array, centroid.reshape(1, -1))\n",
        "\n",
        "# make it so that 0 is 'same' and 1 is very different:\n",
        "distance_to_centroid = 1 - cos_similarity\n",
        "\n",
        "# Create an object with the similarity scores for each idea\n",
        "ideas_and_similarities = [{\"idea\": ideas[i], \"similarity\": distance_to_centroid[i][0]} for i in range(len(ideas))]\n",
        "distance_matrix = pairwise_distances(idea_array, metric='cosine')\n"
      ]
    },
    {
      "cell_type": "markdown",
      "metadata": {},
      "source": [
        "### MDS MultiDimensional Scaling\n",
        "Not quite working yet, but might be a good way if we can transform the data properly."
      ]
    },
    {
      "cell_type": "code",
      "execution_count": null,
      "metadata": {},
      "outputs": [],
      "source": [
        "# Center the data\n",
        "mds = manifold.MDS(n_components=2, dissimilarity='precomputed', random_state=1)\n",
        "distances = euclidean_distances(distance_to_centroid)\n",
        "coords = mds.fit_transform(distances)\n",
        "\n",
        "# Plot\n",
        "plt.title('Idea Centroid Similarity')\n",
        "fig = plt.figure(1)\n",
        "ax = plt.axes([0.0, 0.0, 1.0, 1.0])\n",
        "\n",
        "plt.scatter(coords[:, 0], coords[:, 1], color=\"navy\", label=\"Ideas\")\n",
        "plt.legend(scatterpoints=1, loc=\"best\", shadow=False)\n",
        "\n",
        "# Thicker connection lines if points are close to each other\n",
        "EPSILON = np.finfo(np.float32).eps\n",
        "line_weights = distances.max() / (distances + EPSILON) * 100\n",
        "np.fill_diagonal(line_weights, 0)\n",
        "\n",
        "# Plot the edges\n",
        "start_idx, end_idx = np.where(coords)\n",
        "# a sequence of (*line0*, *line1*, *line2*), where::\n",
        "#            linen = (x0, y0), (x1, y1), ... (xm, ym)\n",
        "segments = [\n",
        "    [coords[i, :], coords[j, :]] for i in range(len(coords)) for j in range(len(coords))\n",
        "]\n",
        "values = np.abs(line_weights)\n",
        "lc = LineCollection(\n",
        "    segments, zorder=0, cmap=plt.cm.Blues, norm=plt.Normalize(0, values.max())\n",
        ")\n",
        "lc.set_array(line_weights.flatten())\n",
        "lc.set_linewidths(np.full(len(segments), 0.5))\n",
        "ax.add_collection(lc)\n",
        "\n",
        "# Add labels to each point\n",
        "labels = []\n",
        "for i, dist in enumerate(coords):\n",
        "    # text = f\"{i}: {txt[:5]}...\" if len(txt) > 5 else txt\n",
        "    dist_round = round(dist[0], 2)\n",
        "    text = f\"{i}\"\n",
        "    label = ax.annotate(text, (coords[i, 0], coords[i, 1]), xytext=(5, 3), textcoords='offset pixels')\n",
        "    labels.append(label)\n",
        "\n",
        "# Adjust labels to prevent overlap - doesn't quite work though\n",
        "# adjust_text(labels, arrowprops=dict(arrowstyle='->', color='black'))\n",
        "\n",
        "# Add x and y axes\n",
        "ax.axhline(y=0, color='k', linestyle='--')\n",
        "ax.axvline(x=0, color='k', linestyle='--')\n",
        "\n",
        "plt.show()\n",
        "\n",
        "for i, item in enumerate(ideas_and_similarities):\n",
        "    print(f\"{i} : {item[\"idea\"]} - (similarity|dist|coords): ({round(item[\"similarity\"], 2)}|{round(distances[i][0], 2)}|{round(coords[i][0], 2)})\")\n"
      ]
    },
    {
      "cell_type": "markdown",
      "metadata": {},
      "source": [
        "### Heatmap\n",
        "Difficult to read properly. There's surely something better. (See other attempts below)"
      ]
    },
    {
      "cell_type": "code",
      "execution_count": null,
      "metadata": {},
      "outputs": [],
      "source": [
        "fig = plt.figure(figsize=(8, 6))\n",
        "plt.imshow(distance_matrix, cmap='viridis', interpolation='nearest')\n",
        "plt.colorbar(label='Similarity Score')\n",
        "plt.title('Heatmap Graph of Similarity Scores')\n",
        "plt.xticks(np.arange(9), np.arange(1, 10))\n",
        "plt.yticks(np.arange(9), np.arange(1, 10))\n",
        "plt.xlabel('Idea Index')\n",
        "plt.ylabel('Idea Index')\n",
        "plt.grid(visible=True, linestyle='--', linewidth=0.5)\n",
        "# as_html = mpld3.fig_to_html(fig, include_libraries=False, template_type=\"simple\")\n",
        "# plt.savefig('static/plot.png')\n",
        "# plt.close(fig)\n",
        "plt.show()"
      ]
    },
    {
      "cell_type": "markdown",
      "metadata": {},
      "source": [
        "### Networkx Graph\n",
        "Not really suitable, but we might be able to improve something?"
      ]
    },
    {
      "cell_type": "code",
      "execution_count": null,
      "metadata": {},
      "outputs": [],
      "source": [
        "import networkx as nx\n",
        "\n",
        "# Create a graph\n",
        "G = nx.Graph()\n",
        "\n",
        "# Add nodes to the graph\n",
        "num_nodes = distance_matrix.shape[0]\n",
        "for i in range(num_nodes):\n",
        "    G.add_node(i)\n",
        "\n",
        "#Add edges based on distance matrix\n",
        "for i in range(num_nodes):\n",
        "    for j in range(i+1, num_nodes):\n",
        "        weight = distance_matrix[i][j]\n",
        "        G.add_edge(i, j, weight=weight)\n",
        "\n",
        "# Position nodes using spring layout\n",
        "coords = nx.spring_layout(G)\n",
        "\n",
        "#Draw nodes\n",
        "nx.draw_networkx_nodes(G, coords, node_size=500)\n",
        "\n",
        "#Draw edges with weights\n",
        "nx.draw_networkx_edges(G, coords)\n",
        "edge_labels = {(u, v): d['weight'] for u, v, d in G.edges(data=True)}\n",
        "nx.draw_networkx_edge_labels(G, coords, edge_labels=edge_labels)\n",
        "\n",
        "#Display the graph\n",
        "plt.title('Distance Graph')\n",
        "plt.axis('off')\n",
        "plt.show()"
      ]
    }
  ],
  "metadata": {
    "kernelspec": {
      "display_name": "venv-3.12",
      "language": "python",
      "name": "python3"
    },
    "language_info": {
      "codemirror_mode": {
        "name": "ipython",
        "version": 3
      },
      "file_extension": ".py",
      "mimetype": "text/x-python",
      "name": "python",
      "nbconvert_exporter": "python",
      "pygments_lexer": "ipython3",
      "version": "3.12.2"
    }
  },
  "nbformat": 4,
  "nbformat_minor": 4
}
